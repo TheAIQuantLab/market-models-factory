{
 "cells": [
  {
   "cell_type": "code",
   "execution_count": 1,
   "id": "403f5869",
   "metadata": {},
   "outputs": [
    {
     "name": "stdout",
     "output_type": "stream",
     "text": [
      "Collecting yfinance\n",
      "  Downloading yfinance-0.2.65-py2.py3-none-any.whl (119 kB)\n",
      "     -------------------------------------- 119.4/119.4 kB 2.3 MB/s eta 0:00:00\n",
      "Requirement already satisfied: pandas>=1.3.0 in c:\\users\\danie\\onedrive\\documentos\\dev\\marketmodelsfactory\\.venv\\lib\\site-packages (from yfinance) (2.3.1)\n",
      "Requirement already satisfied: numpy>=1.16.5 in c:\\users\\danie\\onedrive\\documentos\\dev\\marketmodelsfactory\\.venv\\lib\\site-packages (from yfinance) (2.3.1)\n",
      "Collecting requests>=2.31\n",
      "  Using cached requests-2.32.4-py3-none-any.whl (64 kB)\n",
      "Collecting multitasking>=0.0.7\n",
      "  Using cached multitasking-0.0.11-py3-none-any.whl (8.5 kB)\n",
      "Requirement already satisfied: platformdirs>=2.0.0 in c:\\users\\danie\\onedrive\\documentos\\dev\\marketmodelsfactory\\.venv\\lib\\site-packages (from yfinance) (4.3.8)\n",
      "Requirement already satisfied: pytz>=2022.5 in c:\\users\\danie\\onedrive\\documentos\\dev\\marketmodelsfactory\\.venv\\lib\\site-packages (from yfinance) (2025.2)\n",
      "Collecting frozendict>=2.3.4\n",
      "  Using cached frozendict-2.4.6-py311-none-any.whl (16 kB)\n",
      "Collecting peewee>=3.16.2\n",
      "  Downloading peewee-3.18.2.tar.gz (949 kB)\n",
      "     -------------------------------------- 949.2/949.2 kB 2.9 MB/s eta 0:00:00\n",
      "  Installing build dependencies: started\n",
      "  Installing build dependencies: finished with status 'done'\n",
      "  Getting requirements to build wheel: started\n",
      "  Getting requirements to build wheel: finished with status 'done'\n",
      "  Preparing metadata (pyproject.toml): started\n",
      "  Preparing metadata (pyproject.toml): finished with status 'done'\n",
      "Collecting beautifulsoup4>=4.11.1\n",
      "  Using cached beautifulsoup4-4.13.4-py3-none-any.whl (187 kB)\n",
      "Collecting curl_cffi>=0.7\n",
      "  Downloading curl_cffi-0.12.0-cp39-abi3-win_amd64.whl (1.6 MB)\n",
      "     ---------------------------------------- 1.6/1.6 MB 3.0 MB/s eta 0:00:00\n",
      "Collecting protobuf>=3.19.0\n",
      "  Downloading protobuf-6.31.1-cp310-abi3-win_amd64.whl (435 kB)\n",
      "     -------------------------------------- 435.3/435.3 kB 1.7 MB/s eta 0:00:00\n",
      "Collecting websockets>=13.0\n",
      "  Using cached websockets-15.0.1-cp311-cp311-win_amd64.whl (176 kB)\n",
      "Collecting soupsieve>1.2\n",
      "  Using cached soupsieve-2.7-py3-none-any.whl (36 kB)\n",
      "Requirement already satisfied: typing-extensions>=4.0.0 in c:\\users\\danie\\onedrive\\documentos\\dev\\marketmodelsfactory\\.venv\\lib\\site-packages (from beautifulsoup4>=4.11.1->yfinance) (4.14.1)\n",
      "Collecting cffi>=1.12.0\n",
      "  Using cached cffi-1.17.1-cp311-cp311-win_amd64.whl (181 kB)\n",
      "Collecting certifi>=2024.2.2\n",
      "  Downloading certifi-2025.7.9-py3-none-any.whl (159 kB)\n",
      "     -------------------------------------- 159.2/159.2 kB 9.3 MB/s eta 0:00:00\n",
      "Requirement already satisfied: python-dateutil>=2.8.2 in c:\\users\\danie\\onedrive\\documentos\\dev\\marketmodelsfactory\\.venv\\lib\\site-packages (from pandas>=1.3.0->yfinance) (2.9.0.post0)\n",
      "Requirement already satisfied: tzdata>=2022.7 in c:\\users\\danie\\onedrive\\documentos\\dev\\marketmodelsfactory\\.venv\\lib\\site-packages (from pandas>=1.3.0->yfinance) (2025.2)\n",
      "Collecting charset_normalizer<4,>=2\n",
      "  Using cached charset_normalizer-3.4.2-cp311-cp311-win_amd64.whl (105 kB)\n",
      "Collecting idna<4,>=2.5\n",
      "  Using cached idna-3.10-py3-none-any.whl (70 kB)\n",
      "Collecting urllib3<3,>=1.21.1\n",
      "  Using cached urllib3-2.5.0-py3-none-any.whl (129 kB)\n",
      "Collecting pycparser\n",
      "  Using cached pycparser-2.22-py3-none-any.whl (117 kB)\n",
      "Requirement already satisfied: six>=1.5 in c:\\users\\danie\\onedrive\\documentos\\dev\\marketmodelsfactory\\.venv\\lib\\site-packages (from python-dateutil>=2.8.2->pandas>=1.3.0->yfinance) (1.17.0)\n",
      "Building wheels for collected packages: peewee\n",
      "  Building wheel for peewee (pyproject.toml): started\n",
      "  Building wheel for peewee (pyproject.toml): finished with status 'done'\n",
      "  Created wheel for peewee: filename=peewee-3.18.2-py3-none-any.whl size=139153 sha256=2d4ee15264a1c5999b7e9f6c16336bccc7567b09ba80203dd0cbe880b068fbc5\n",
      "  Stored in directory: c:\\users\\danie\\appdata\\local\\pip\\cache\\wheels\\84\\89\\1a\\c0100eca4a2385818aac19d329718665f75314f3c48f3ceb41\n",
      "Successfully built peewee\n",
      "Installing collected packages: peewee, multitasking, websockets, urllib3, soupsieve, pycparser, protobuf, idna, frozendict, charset_normalizer, certifi, requests, cffi, beautifulsoup4, curl_cffi, yfinance\n",
      "Successfully installed beautifulsoup4-4.13.4 certifi-2025.7.9 cffi-1.17.1 charset_normalizer-3.4.2 curl_cffi-0.12.0 frozendict-2.4.6 idna-3.10 multitasking-0.0.11 peewee-3.18.2 protobuf-6.31.1 pycparser-2.22 requests-2.32.4 soupsieve-2.7 urllib3-2.5.0 websockets-15.0.1 yfinance-0.2.65\n"
     ]
    },
    {
     "name": "stderr",
     "output_type": "stream",
     "text": [
      "\n",
      "[notice] A new release of pip available: 22.3 -> 25.1.1\n",
      "[notice] To update, run: python.exe -m pip install --upgrade pip\n"
     ]
    }
   ],
   "source": [
    "! pip install yfinance"
   ]
  },
  {
   "cell_type": "code",
   "execution_count": 2,
   "id": "3eed6bed",
   "metadata": {},
   "outputs": [
    {
     "name": "stdout",
     "output_type": "stream",
     "text": [
      "                                Open       High        Low      Close  Volume  \\\n",
      "Date                                                                            \n",
      "1927-12-30 00:00:00-05:00  17.660000  17.660000  17.660000  17.660000       0   \n",
      "1928-01-03 00:00:00-05:00  17.760000  17.760000  17.760000  17.760000       0   \n",
      "1928-01-04 00:00:00-05:00  17.719999  17.719999  17.719999  17.719999       0   \n",
      "1928-01-05 00:00:00-05:00  17.549999  17.549999  17.549999  17.549999       0   \n",
      "1928-01-06 00:00:00-05:00  17.660000  17.660000  17.660000  17.660000       0   \n",
      "\n",
      "                           Dividends  Stock Splits  \n",
      "Date                                                \n",
      "1927-12-30 00:00:00-05:00        0.0           0.0  \n",
      "1928-01-03 00:00:00-05:00        0.0           0.0  \n",
      "1928-01-04 00:00:00-05:00        0.0           0.0  \n",
      "1928-01-05 00:00:00-05:00        0.0           0.0  \n",
      "1928-01-06 00:00:00-05:00        0.0           0.0  \n",
      "                                  Open         High          Low        Close  \\\n",
      "Date                                                                            \n",
      "2025-07-03 00:00:00-04:00  6246.459961  6284.649902  6246.459961  6279.350098   \n",
      "2025-07-07 00:00:00-04:00  6259.040039  6262.069824  6201.000000  6229.979980   \n",
      "2025-07-08 00:00:00-04:00  6234.029785  6242.700195  6217.750000  6225.520020   \n",
      "2025-07-09 00:00:00-04:00  6243.330078  6269.160156  6231.430176  6263.259766   \n",
      "2025-07-10 00:00:00-04:00  6266.799805  6290.220215  6251.439941  6280.459961   \n",
      "\n",
      "                               Volume  Dividends  Stock Splits  \n",
      "Date                                                            \n",
      "2025-07-03 00:00:00-04:00  3378110000        0.0           0.0  \n",
      "2025-07-07 00:00:00-04:00  5236740000        0.0           0.0  \n",
      "2025-07-08 00:00:00-04:00  5739030000        0.0           0.0  \n",
      "2025-07-09 00:00:00-04:00  4813340000        0.0           0.0  \n",
      "2025-07-10 00:00:00-04:00  5367350000        0.0           0.0  \n"
     ]
    }
   ],
   "source": [
    "import yfinance as yf\n",
    "\n",
    "# get as much data as posible from the sp500\n",
    "def get_sp500_data():\n",
    "    sp500 = yf.Ticker(\"^GSPC\")\n",
    "    data = sp500.history(period=\"max\")\n",
    "    return data\n",
    "\n",
    "data = get_sp500_data()\n",
    "\n",
    "print(data.head())\n",
    "print(data.tail())\n",
    "\n",
    "# save the data to a csv file\n",
    "data.to_csv(\"../data/sp500_data.csv\")"
   ]
  },
  {
   "cell_type": "code",
   "execution_count": null,
   "id": "4615e570",
   "metadata": {},
   "outputs": [],
   "source": []
  }
 ],
 "metadata": {
  "kernelspec": {
   "display_name": ".venv",
   "language": "python",
   "name": "python3"
  },
  "language_info": {
   "codemirror_mode": {
    "name": "ipython",
    "version": 3
   },
   "file_extension": ".py",
   "mimetype": "text/x-python",
   "name": "python",
   "nbconvert_exporter": "python",
   "pygments_lexer": "ipython3",
   "version": "3.11.0"
  }
 },
 "nbformat": 4,
 "nbformat_minor": 5
}
